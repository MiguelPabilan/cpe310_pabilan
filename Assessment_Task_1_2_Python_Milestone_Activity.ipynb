{
  "nbformat": 4,
  "nbformat_minor": 0,
  "metadata": {
    "colab": {
      "provenance": [],
      "include_colab_link": true
    },
    "kernelspec": {
      "name": "python3",
      "display_name": "Python 3"
    },
    "language_info": {
      "name": "python"
    }
  },
  "cells": [
    {
      "cell_type": "markdown",
      "metadata": {
        "id": "view-in-github",
        "colab_type": "text"
      },
      "source": [
        "<a href=\"https://colab.research.google.com/github/MiguelPabilan/cpe310_pabilan/blob/main/Assessment_Task_1_2_Python_Milestone_Activity.ipynb\" target=\"_parent\"><img src=\"https://colab.research.google.com/assets/colab-badge.svg\" alt=\"Open In Colab\"/></a>"
      ]
    },
    {
      "cell_type": "markdown",
      "source": [
        "Exercise 1: Weather Monitoring System\n",
        "\n",
        "You are developing a weather monitoring system for a small town. The system needs to process temperature data in different units.\n",
        "\n",
        "    Task 1: Write a function celsius_to_fahrenheit(celsius) that converts a temperature reading from Celsius to Fahrenheit for the weather reports.\n",
        "    Task 2: Write a function fahrenheit_to_celsius(fahrenheit) that converts temperature data from the old system (which used Fahrenheit) to Celsius for consistency.\n",
        "    Task 3: Write a function celsius_to_kelvin(celsius) that converts the temperature to Kelvin for scientific analysis.\n",
        "    Task 4: Write a main program that simulates the input of temperature data from different sensors and converts it to the required units. The system should allow users (weather analysts) to input a temperature and select the conversion they need, displaying the converted temperature.\n",
        "\n"
      ],
      "metadata": {
        "id": "DwQQ5MSw7JaE"
      }
    },
    {
      "cell_type": "code",
      "source": [
        "#Task 1:\n",
        "def celsius_to_fahrenheit(celsius):\n",
        "    return (celsius * 9/5) + 32\n",
        "#Task 2:\n",
        "def fahrenheit_to_celsius(fahrenheit):\n",
        "    return (fahrenheit - 32) * 5/9\n",
        "#Task 3:\n",
        "def celsius_to_kelvin(celsius):\n",
        "    return celsius + 273.15"
      ],
      "metadata": {
        "id": "Om1L7DMD-SXd"
      },
      "execution_count": null,
      "outputs": []
    },
    {
      "cell_type": "code",
      "source": [
        "#Task 4:\n",
        "def main():\n",
        "    print(\"Weather Monitoring System\")\n",
        "    print(\"1: Celsius to Fahrenheit\")\n",
        "    print(\"2: Fahrenheit to Celsius\")\n",
        "    print(\"3: Celsius to Kelvin\")\n",
        "\n",
        "    choice = int(input(\"Select conversion (1/2/3): \"))\n",
        "    temp = float(input(\"Enter temperature: \"))\n",
        "\n",
        "    if choice == 1:\n",
        "        print(f\"Converted Temperature: {celsius_to_fahrenheit(temp)} °F\")\n",
        "    elif choice == 2:\n",
        "        print(f\"Converted Temperature: {fahrenheit_to_celsius(temp)} °C\")\n",
        "    elif choice == 3:\n",
        "        print(f\"Converted Temperature: {celsius_to_kelvin(temp)} K\")\n",
        "    else:\n",
        "        print(\"Invalid choice.\")\n",
        "\n",
        "if __name__ == \"__main__\":\n",
        "    main()"
      ],
      "metadata": {
        "colab": {
          "base_uri": "https://localhost:8080/"
        },
        "id": "AZXDUg3AAE5b",
        "outputId": "6d294e2a-0a09-4b53-e899-4dcece1aaad8"
      },
      "execution_count": null,
      "outputs": [
        {
          "output_type": "stream",
          "name": "stdout",
          "text": [
            "Weather Monitoring System\n",
            "1: Celsius to Fahrenheit\n",
            "2: Fahrenheit to Celsius\n",
            "3: Celsius to Kelvin\n",
            "Select conversion (1/2/3): 3\n",
            "Enter temperature: 22\n",
            "Converted Temperature: 295.15 K\n"
          ]
        }
      ]
    },
    {
      "cell_type": "markdown",
      "source": [
        "Exercise 2: Text-Based Game Development\n",
        "\n",
        "You are part of a team developing a text-based adventure game. Players need to interact with the game by entering commands that are strings.\n",
        "\n",
        "    Task 1: Write a function reverse_command(command) that reverses the player's input command for a hidden puzzle in the game.\n",
        "    Task 2: Write a function is_palindrome(command) that checks if a command is a palindrome, which unlocks a secret door in the game.\n",
        "    Task 3: Write a function count_vowels(command) that counts the vowels in a player's command, which determines the strength of a magical spell they cast.\n",
        "    Task 4: Create a main program that simulates a player entering a command. Based on the command, the program should call the appropriate functions to check for puzzles, unlock secrets, or cast spells, displaying the outcomes.\n"
      ],
      "metadata": {
        "id": "OrW_5PCH7O3M"
      }
    },
    {
      "cell_type": "code",
      "source": [
        "#Task 1:\n",
        "def reverse_command(command):\n",
        "    return command[::-1]\n",
        "#Task 2:\n",
        "def is_palindrome(command):\n",
        "    return command == command[::-1]\n",
        "#Task 3\n",
        "def count_vowels(command):\n",
        "    vowels = \"aeiouAEIOU\"\n",
        "    return sum(1 for char in command if char in vowels)"
      ],
      "metadata": {
        "id": "-ZVZK4ez--2a"
      },
      "execution_count": null,
      "outputs": []
    },
    {
      "cell_type": "code",
      "source": [
        "#Task 4:\n",
        "def main():\n",
        "    print(\"Text-Based Game Command Processor\")\n",
        "    command = input(\"Enter a command: \")\n",
        "\n",
        "    print(f\"Reversed Command: {reverse_command(command)}\")\n",
        "\n",
        "    if is_palindrome(command):\n",
        "        print(\"Secret Door Unlocked!\")\n",
        "    else:\n",
        "        print(\"No secret door found.\")\n",
        "\n",
        "    vowel_count = count_vowels(command)\n",
        "    print(f\"Magical Spell Strength (Vowel Count): {vowel_count}\")\n",
        "\n",
        "if __name__ == \"__main__\":\n",
        "    main()"
      ],
      "metadata": {
        "colab": {
          "base_uri": "https://localhost:8080/"
        },
        "id": "SfnNn4Nc_0O0",
        "outputId": "4acc7f7a-5f1f-4f9d-bf13-3249366e77fc"
      },
      "execution_count": null,
      "outputs": [
        {
          "output_type": "stream",
          "name": "stdout",
          "text": [
            "Text-Based Game Command Processor\n",
            "Enter a command: orange\n",
            "Reversed Command: egnaro\n",
            "No secret door found.\n",
            "Magical Spell Strength (Vowel Count): 3\n"
          ]
        }
      ]
    },
    {
      "cell_type": "markdown",
      "source": [
        "Exercise 3: Personal Finance Manager\n",
        "\n",
        "You are building a simple personal finance manager to help users keep track of their expenses and manage their budgets.\n",
        "\n",
        "    Task 1: Write a function add_income(income, total) that adds a new income amount to the total balance.\n",
        "    Task 2: Write a function subtract_expense(expense, total) that subtracts an expense amount from the total balance.\n",
        "    Task 3: Write a function calculate_balance(income, expenses) that calculates the remaining balance after accounting for all expenses.\n",
        "    Task 4: Create a main program that allows users to input their income and expenses, and then use the functions to display their remaining balance. The program should also warn the user if their expenses exceed their income.\n"
      ],
      "metadata": {
        "id": "fV2bv6BM6JFx"
      }
    },
    {
      "cell_type": "code",
      "source": [
        "#Task 1: Write a function add_income(income, total) that adds a new income amount to the total balance.\n",
        "def add_income(income, total):\n",
        "    return total + income\n",
        "\n",
        "total = float(input(\"Enter current balance: \"))\n",
        "income = float(input(\"Enter income amount: \"))\n",
        "\n",
        "total = add_income(income, total)\n",
        "print(f\"Updated Balance: ${total}\")"
      ],
      "metadata": {
        "id": "93oZ1MPL_rUL",
        "colab": {
          "base_uri": "https://localhost:8080/"
        },
        "outputId": "425d61f5-88a7-4123-f62a-5327604968a1"
      },
      "execution_count": null,
      "outputs": [
        {
          "output_type": "stream",
          "name": "stdout",
          "text": [
            "Enter current balance: 1000\n",
            "Enter income amount: 900\n",
            "Updated Balance: $1900.0\n"
          ]
        }
      ]
    },
    {
      "cell_type": "code",
      "source": [
        "#Task 2: Write a function subtract_expense(expense, total) that subtracts an expense amount from the total balance.\n",
        "def subtract_expense(expense, total):\n",
        "    return total - expense\n",
        "\n",
        "total = float(input(\"Enter current balance: \"))\n",
        "expense = float(input(\"Enter expense amount: \"))\n",
        "\n",
        "total = subtract_expense(expense, total)\n",
        "print(f\"Updated Balance: ₱{total}\")"
      ],
      "metadata": {
        "id": "Ckr55-dE_rwS",
        "colab": {
          "base_uri": "https://localhost:8080/"
        },
        "outputId": "62500fe3-d98a-464a-c131-7aa73dec982a"
      },
      "execution_count": null,
      "outputs": [
        {
          "output_type": "stream",
          "name": "stdout",
          "text": [
            "Enter current balance: 100\n",
            "Enter expense amount: 90\n",
            "Updated Balance: ₱10.0\n"
          ]
        }
      ]
    },
    {
      "cell_type": "code",
      "execution_count": null,
      "metadata": {
        "id": "ZBeh9kVd4FdH",
        "colab": {
          "base_uri": "https://localhost:8080/"
        },
        "outputId": "8fdf66b2-f6b4-4c9f-9b68-d64ecd87376c"
      },
      "outputs": [
        {
          "output_type": "stream",
          "name": "stdout",
          "text": [
            "Enter your total income: 900\n",
            "Enter your total expenses: 450\n",
            "Remaining Balance: ₱450.00\n"
          ]
        }
      ],
      "source": [
        "#Task 3: Write a function calculate_balance(income, expenses) that calculates the remaining balance after accounting for all expenses.\n",
        "def calculate_balance(income, expenses):\n",
        "    return income - expenses\n",
        "\n",
        "income = float(input(\"Enter your total income: \"))\n",
        "expenses = float(input(\"Enter your total expenses: \"))\n",
        "\n",
        "balance = calculate_balance(income, expenses)\n",
        "print(f\"Remaining Balance: ₱{balance:.2f}\")"
      ]
    },
    {
      "cell_type": "code",
      "source": [
        "#Task 4: Create a main program that allows users to input their income and expenses, and then use the functions to display their remaining balance. The program should also warn the user if their expenses exceed their income.\n",
        "def add_income(income, total):\n",
        "    return total + income\n",
        "\n",
        "def subtract_expense(expense, total):\n",
        "    return total - expense\n",
        "\n",
        "def calculate_balance(income, expenses):\n",
        "    return income - expenses\n",
        "\n",
        "def main():\n",
        "    total_income = float(input(\"Enter your total income: \"))\n",
        "    total_expenses = 0\n",
        "\n",
        "    while True:\n",
        "        choice = input(\"Do you want to add an expense? (yes/no): \").strip().lower()\n",
        "        if choice == \"no\":\n",
        "            break\n",
        "        expense = float(input(\"Enter expense amount: \"))\n",
        "        total_expenses = subtract_expense(expense, total_expenses)\n",
        "\n",
        "    balance = calculate_balance(total_income, -total_expenses) # Convert expenses back to positive\n",
        "    print(f\"Remaining Balance: ${balance:.2f}\")\n",
        "\n",
        "    if balance < 0:\n",
        "        print(\"Warning: Your expenses exceed your income!\")\n",
        "\n",
        "if __name__ == \"__main__\":\n",
        "    main()"
      ],
      "metadata": {
        "id": "JHTsh7zu7wTP",
        "colab": {
          "base_uri": "https://localhost:8080/"
        },
        "outputId": "24003c72-0bf2-4893-89ca-1b44de925001"
      },
      "execution_count": null,
      "outputs": [
        {
          "output_type": "stream",
          "name": "stdout",
          "text": [
            "Enter your total income: 1000\n",
            "Do you want to add an expense? (yes/no): yes\n",
            "Enter expense amount: 100\n",
            "Do you want to add an expense? (yes/no): no\n",
            "Remaining Balance: $900.00\n"
          ]
        }
      ]
    },
    {
      "cell_type": "markdown",
      "source": [
        "Exercise 4: Event Planning System\n",
        "\n",
        "Scenario: You are helping an event planner organize a series of events. The planner needs to manage guest lists and schedules effectively.\n",
        "\n",
        "    Task 1: Write a function factorial(n) that calculates the factorial of the number of guests to determine the possible seating arrangements. Use recursion to implement this function.\n",
        "    Task 2: Write a function fibonacci(n) that determines the sequence of events based on their importance (using the Fibonacci sequence to assign priorities). Use recursion to implement this function.\n",
        "    Task 3: Write a function total_guests(events) that sums up the total number of guests across multiple events.\n",
        "    Task 4: Create a main program that allows the event planner to input the number of guests for each event, and then calculates the possible seating arrangements and priorities of the events using the above functions. Display the results to help with planning.\n"
      ],
      "metadata": {
        "id": "5raI3p2u6ZxD"
      }
    },
    {
      "cell_type": "code",
      "source": [
        "#Task 1: Write a function factorial(n) that calculates the factorial of the number of guests to determine the possible seating arrangements. Use recursion to implement this function.\n",
        "def factorial(n):\n",
        "    return 1 if n == 0 else n * factorial(n - 1)\n",
        "\n",
        "guests = int(input(\"Enter number of guests: \"))\n",
        "print(\"Possible seating arrangements:\", factorial(guests))\n"
      ],
      "metadata": {
        "id": "ieghqpfn6dXj",
        "colab": {
          "base_uri": "https://localhost:8080/"
        },
        "outputId": "d04631de-c796-47ff-c972-9be31ebd660b"
      },
      "execution_count": null,
      "outputs": [
        {
          "output_type": "stream",
          "name": "stdout",
          "text": [
            "Enter number of guests: 10\n",
            "Possible seating arrangements: 3628800\n"
          ]
        }
      ]
    },
    {
      "cell_type": "code",
      "source": [
        "#Task 2: Write a function fibonacci(n) that determines the sequence of events based on their importance (using the Fibonacci sequence to assign priorities). Use recursion to implement this function.\n",
        "def fibonacci(n):\n",
        "    return n if n <= 1 else fibonacci(n - 1) + fibonacci(n - 2)\n",
        "\n",
        "event_number = int(input(\"Enter event number: \"))\n",
        "print(\"Priority level:\", fibonacci(event_number))"
      ],
      "metadata": {
        "id": "R_ZmEZFL8KBg",
        "colab": {
          "base_uri": "https://localhost:8080/"
        },
        "outputId": "e7bf1e07-fb88-4881-a394-e1a1b6f8d4e2"
      },
      "execution_count": null,
      "outputs": [
        {
          "output_type": "stream",
          "name": "stdout",
          "text": [
            "Enter event number: 5\n",
            "Priority level: 5\n"
          ]
        }
      ]
    },
    {
      "cell_type": "code",
      "source": [
        "#Task 3: Write a function total_guests(events) that sums up the total number of guests across multiple events.\n",
        "def total_guests(events):\n",
        "    return sum(events)\n",
        "\n",
        "events = list(map(int, input(\"Enter number of guests for each event (separated by spaces): \").split()))\n",
        "print(\"Total guests across all events:\", total_guests(events))"
      ],
      "metadata": {
        "id": "eOnuCw1s8OSi",
        "colab": {
          "base_uri": "https://localhost:8080/"
        },
        "outputId": "96a96507-3a6b-4017-bfda-440be7e1eeb3"
      },
      "execution_count": null,
      "outputs": [
        {
          "output_type": "stream",
          "name": "stdout",
          "text": [
            "Enter number of guests for each event (separated by spaces): 10 25 30\n",
            "Total guests across all events: 65\n"
          ]
        }
      ]
    },
    {
      "cell_type": "code",
      "source": [
        "#Task 4: Create a main program that allows the event planner to input the number of guests for each event, and then calculates the possible seating arrangements and priorities of the events using the above functions. Display the results to help with planning.\n",
        "def factorial(n): return 1 if n == 0 else n * factorial(n - 1)\n",
        "def fibonacci(n): return n if n <= 1 else fibonacci(n - 1) + fibonacci(n - 2)\n",
        "\n",
        "events = list(map(int, input(\"Guests per event (space-separated): \").split()))\n",
        "print(\"Total guests:\", sum(events))\n",
        "\n",
        "for i, g in enumerate(events, 1):\n",
        "    print(f\"Event {i}: Guests={g}, Seating={factorial(g)}, Priority={fibonacci(i)}\")"
      ],
      "metadata": {
        "id": "PYW3WgQK8SDq",
        "colab": {
          "base_uri": "https://localhost:8080/"
        },
        "outputId": "1e67086c-65ff-459a-d4ee-9d99ad1fe6c2"
      },
      "execution_count": null,
      "outputs": [
        {
          "output_type": "stream",
          "name": "stdout",
          "text": [
            "Guests per event (space-separated): 2  4  5  6 7\n",
            "Total guests: 24\n",
            "Event 1: Guests=2, Seating=2, Priority=1\n",
            "Event 2: Guests=4, Seating=24, Priority=1\n",
            "Event 3: Guests=5, Seating=120, Priority=2\n",
            "Event 4: Guests=6, Seating=720, Priority=3\n",
            "Event 5: Guests=7, Seating=5040, Priority=5\n"
          ]
        }
      ]
    },
    {
      "cell_type": "markdown",
      "source": [
        "Exercise 5: Inventory Management System\n",
        "\n",
        "Scenario: You are tasked with developing an inventory management system for a small retail store. The store needs to keep track of products, their quantities, and pricing.\n",
        "\n",
        "    Task 1: Write a function find_max_price(products) that finds the most expensive product in the inventory.\n",
        "    Task 2: Write a function find_min_stock(products) that identifies the product with the lowest stock, so the store can reorder it.\n",
        "    Task 3: Write a function average_price(products) that calculates the average price of all products to help with pricing strategies.\n",
        "    Task 4: Write a function remove_out_of_stock(products) that removes products with zero stock from the inventory list.\n",
        "    Task 5: Create a main program that simulates the store’s inventory management process. Allow the user (store manager) to input product details, and then use the functions to analyze and manage the inventory, providing insights such as the most expensive item, average pricing, and stock status.\n"
      ],
      "metadata": {
        "id": "CqxseqNP8ZUy"
      }
    },
    {
      "cell_type": "code",
      "source": [
        "#Task 1: Write a function find_max_price(products) that finds the most expensive product in the inventory.\n",
        "def find_max_price(products):\n",
        "    max_product = products[0]\n",
        "    for product in products:\n",
        "        if product['price'] > max_product['price']:\n",
        "            max_product = product\n",
        "    return max_product\n",
        "\n",
        "products = [\n",
        "    {\"name\": \"Laptop\", \"price\": 1200, \"stock\": 5},\n",
        "    {\"name\": \"Phone\", \"price\": 800, \"stock\": 10},\n",
        "    {\"name\": \"Headphones\", \"price\": 150, \"stock\": 15}\n",
        "]\n",
        "\n",
        "expensive = find_max_price(products)\n",
        "print(f\"Most expensive: {expensive['name']} - ${expensive['price']}\")"
      ],
      "metadata": {
        "id": "S8ydUKV-8cEA",
        "colab": {
          "base_uri": "https://localhost:8080/"
        },
        "outputId": "5fc8e3ae-23ea-4d9b-9d45-bcb1d3cdbf23"
      },
      "execution_count": null,
      "outputs": [
        {
          "output_type": "stream",
          "name": "stdout",
          "text": [
            "Most expensive: Laptop - $1200\n"
          ]
        }
      ]
    },
    {
      "cell_type": "code",
      "source": [
        "#Task 2: Write a function find_min_stock(products) that identifies the product with the lowest stock, so the store can reorder it.\n",
        "def find_min_stock(products):\n",
        "    return min(products, key=lambda p: p['stock'])\n",
        "products = [\n",
        "    {\"name\": \"Laptop\", \"price\": 1200, \"stock\": 5},\n",
        "    {\"name\": \"Phone\", \"price\": 800, \"stock\": 10},\n",
        "    {\"name\": \"Headphones\", \"price\": 150, \"stock\": 15}\n",
        "]\n",
        "\n",
        "low_stock = find_min_stock(products)\n",
        "print(f\"Product with lowest stock: {low_stock['name']} - {low_stock['stock']} left\")"
      ],
      "metadata": {
        "id": "ZvCXKA--8go6",
        "colab": {
          "base_uri": "https://localhost:8080/"
        },
        "outputId": "c51f8f77-d25f-46c1-db78-9d1d6564dd3e"
      },
      "execution_count": null,
      "outputs": [
        {
          "output_type": "stream",
          "name": "stdout",
          "text": [
            "Product with lowest stock: Laptop - 5 left\n"
          ]
        }
      ]
    },
    {
      "cell_type": "code",
      "source": [
        "#Task 3: Write a function average_price(products) that calculates the average price of all products to help with pricing strategies.\n",
        "def average_price(products):\n",
        "    return sum(p['price'] for p in products) / len(products)\n",
        "\n",
        "products = [\n",
        "    {\"name\": \"Laptop\", \"price\": 45000, \"stock\": 5},\n",
        "    {\"name\": \"Phone\", \"price\": 18000, \"stock\": 10},\n",
        "    {\"name\": \"Headphones\", \"price\": 2500, \"stock\": 15}\n",
        "]\n",
        "\n",
        "avg_price = average_price(products)\n",
        "print(f\"Average product price: ₱{avg_price:,.2f}\")"
      ],
      "metadata": {
        "id": "VW0Bw_dD8ixA",
        "colab": {
          "base_uri": "https://localhost:8080/"
        },
        "outputId": "b44be3be-eb64-4c79-a7be-de8741072a1c"
      },
      "execution_count": null,
      "outputs": [
        {
          "output_type": "stream",
          "name": "stdout",
          "text": [
            "Average product price: ₱21,833.33\n"
          ]
        }
      ]
    },
    {
      "cell_type": "code",
      "source": [
        "#Task 4: Write a function remove_out_of_stock(products) that removes products with zero stock from the inventory list.\n",
        "def remove_out_of_stock(products):\n",
        "    return [p for p in products if p['stock'] > 0]\n",
        "products = [\n",
        "    {\"name\": \"Laptop\", \"price\": 45000, \"stock\": 5},\n",
        "    {\"name\": \"Phone\", \"price\": 18000, \"stock\": 0},\n",
        "    {\"name\": \"Headphones\", \"price\": 2500, \"stock\": 15},\n",
        "    {\"name\": \"Mouse\", \"price\": 800, \"stock\": 0}\n",
        "]\n",
        "\n",
        "updated_products = remove_out_of_stock(products)\n",
        "print(\"Available products:\")\n",
        "for p in updated_products:\n",
        "    print(f\"{p['name']} - ₱{p['price']:,.2f} ({p['stock']} in stock)\")"
      ],
      "metadata": {
        "id": "egRZQKJg8lW8",
        "colab": {
          "base_uri": "https://localhost:8080/"
        },
        "outputId": "c0f48533-3244-436a-f6e8-ebc035c3fb16"
      },
      "execution_count": null,
      "outputs": [
        {
          "output_type": "stream",
          "name": "stdout",
          "text": [
            "Available products:\n",
            "Laptop - ₱45,000.00 (5 in stock)\n",
            "Headphones - ₱2,500.00 (15 in stock)\n"
          ]
        }
      ]
    },
    {
      "cell_type": "code",
      "source": [
        "#Task 5: Create a main program that simulates the store’s inventory management process. Allow the user (store manager) to input product details, and then use the functions to analyze and manage the inventory, providing insights such as the most expensive item, average pricing, and stock status.\n",
        "def find_max_price(products): return max(products, key=lambda p: p['price'])\n",
        "def find_min_stock(products): return min(products, key=lambda p: p['stock'])\n",
        "def average_price(products): return sum(p['price'] for p in products) / len(products)\n",
        "def remove_out_of_stock(products): return [p for p in products if p['stock'] > 0]\n",
        "\n",
        "products = [{\"name\": input(\"Product name: \"), \"price\": float(input(\"Price (₱): \")), \"stock\": int(input(\"Stock: \"))}\n",
        "            for _ in range(int(input(\"Number of products: \")))]\n",
        "if products:\n",
        "    print(f\"\\nMost Expensive: {find_max_price(products)['name']} - ₱{find_max_price(products)['price']:,.2f}\")\n",
        "    print(f\"Lowest Stock: {find_min_stock(products)['name']} - {find_min_stock(products)['stock']} left\")\n",
        "    print(f\"Average Price: ₱{average_price(products):,.2f}\")\n",
        "    products = remove_out_of_stock(products)\n",
        "    print(\"\\nAvailable products:\", *[f\"{p['name']} - ₱{p['price']:,.2f} ({p['stock']} in stock)\" for p in products], sep=\"\\n\")\n",
        "else:\n",
        "    print(\"No products in inventory.\")"
      ],
      "metadata": {
        "id": "BmKUf-0u9jOZ",
        "colab": {
          "base_uri": "https://localhost:8080/"
        },
        "outputId": "7bec9285-3f96-4f02-e9ae-410aae1d53b3"
      },
      "execution_count": null,
      "outputs": [
        {
          "output_type": "stream",
          "name": "stdout",
          "text": [
            "Number of products: 3\n",
            "Product name: laptop\n",
            "Price (₱): 45000\n",
            "Stock: 5\n",
            "Product name: phone\n",
            "Price (₱): 18000\n",
            "Stock: 0\n",
            "Product name: headphones\n",
            "Price (₱): 2500\n",
            "Stock: 15\n",
            "\n",
            "Most Expensive: laptop - ₱45,000.00\n",
            "Lowest Stock: phone - 0 left\n",
            "Average Price: ₱21,833.33\n",
            "\n",
            "Available products:\n",
            "laptop - ₱45,000.00 (5 in stock)\n",
            "headphones - ₱2,500.00 (15 in stock)\n"
          ]
        }
      ]
    }
  ]
}